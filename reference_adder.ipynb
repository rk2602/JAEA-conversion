{
 "metadata": {
  "language_info": {
   "codemirror_mode": {
    "name": "ipython",
    "version": 3
   },
   "file_extension": ".py",
   "mimetype": "text/x-python",
   "name": "python",
   "nbconvert_exporter": "python",
   "pygments_lexer": "ipython3",
   "version": "3.9.1"
  },
  "orig_nbformat": 4,
  "kernelspec": {
   "name": "python3",
   "display_name": "Python 3.9.1 64-bit"
  },
  "interpreter": {
   "hash": "6998a965c5b10159c297ab78fc148a44ad705a861c4aea761fe0a581ce3b1e65"
  }
 },
 "nbformat": 4,
 "nbformat_minor": 2,
 "cells": [
  {
   "cell_type": "code",
   "execution_count": 20,
   "source": [
    "# IMPORT ALL THE NECESSARY LIBRARIES\r\n",
    "#\r\n",
    "import math\r\n",
    "import pandas as pd\r\n",
    "import numpy as np\r\n",
    "import matplotlib.pyplot as plt\r\n",
    "import seaborn as sns\r\n",
    "from pathlib import Path\r\n",
    "from sklearn.metrics import r2_score\r\n",
    "import sys\r\n",
    "import os\r\n",
    "# IDENTIFY THE DEFAULT PATH FOR ALL OUTPUT FILES:\r\n",
    "#\r\n",
    "path_1 = Path(r'C:\\Users\\zavarin1\\Documents\\6. DRESDEN SMART KD CALCS\\jaea_online_extract')\r\n",
    "#path_1=Path(r'C:\\Users\\rk260\\OneDrive\\Desktop\\japan')\r\n",
    "\r\n",
    "ref_df = pd.read_csv(path_1.joinpath(\"df5.csv\"),low_memory=False)\r\n",
    "\r\n",
    "ref_df.replace({'-':'NA'},inplace=True)\r\n",
    "ref_df.fillna('NA',inplace=True)\r\n",
    "ref_df = ref_df.iloc[: , 1:]\r\n",
    "#ref_df.to_csv('ref_df.csv')"
   ],
   "outputs": [],
   "metadata": {}
  },
  {
   "cell_type": "code",
   "execution_count": 21,
   "source": [
    "#Conversion of reference columns\r\n",
    "def ref_creator(author, year):\r\n",
    "    answer=''\r\n",
    "    breakup=[char for char in author]\r\n",
    "    for f in range(len(breakup)-1):\r\n",
    "        if breakup[f].isupper() and breakup[f+1]!='.':\r\n",
    "            answer+=breakup[f].lower()\r\n",
    "    answer+=str(year)[2:]\r\n",
    "    return answer[:-2]\r\n",
    "\r\n",
    "df8 = pd.read_csv(path_1.joinpath(\"doi_id_reference.csv\"))\r\n",
    "df8 = df8.reset_index().set_index('Combo')\r\n",
    "ref_df['Reference']=ref_df.apply(lambda row: df8.loc[row['index'],'LLNL Reference'] if str(row['Title'])+str(row['Year']) in df8.index else ref_creator(row['Author'], row['Year']),axis=1)\r\n",
    "df8 = df8.reset_index().set_index('LLNL Reference')\r\n",
    "ref_df['DOI']=ref_df.apply(lambda row: df8.loc[row['Reference'],'DOI Link'] if row['Reference'] in df8.index else 'NA',axis=1)\r\n",
    "#ref_df.to_csv('ref_df.csv')"
   ],
   "outputs": [],
   "metadata": {
    "tags": []
   }
  },
  {
   "cell_type": "code",
   "execution_count": 22,
   "source": [
    "#Add dummy columns for surface charge and reactive site densities and export csv of final formatted file consistent with LLNL SCIE database\r\n",
    "ref_df['SurfCharge_val']='NA'\r\n",
    "ref_df['SurfCharge_SD']='NA'\r\n",
    "ref_df['SurfCharge_units']='NA'\r\n",
    "'''list_ref={}\r\n",
    "for _, row in ref_df.iterrows():\r\n",
    "    list_ref.update({row['Mineral']:list_ref.get(row['Mineral'],0)+1})\r\n",
    "print('hi')\r\n",
    "print(list_ref)'''\r\n",
    "#ref_df.to_csv('ref_df.csv')"
   ],
   "outputs": [
    {
     "output_type": "execute_result",
     "data": {
      "text/plain": [
       "\"list_ref={}\\nfor _, row in ref_df.iterrows():\\n    list_ref.update({row['Mineral']:list_ref.get(row['Mineral'],0)+1})\\nprint('hi')\\nprint(list_ref)\""
      ]
     },
     "metadata": {},
     "execution_count": 22
    }
   ],
   "metadata": {}
  },
  {
   "cell_type": "code",
   "execution_count": 23,
   "source": [
    "#Creating unique IDs\r\n",
    "ref_df['Set']=ref_df['Reference']+'_1'\r\n",
    "ref_df.sort_values('Reference')\r\n",
    "ref_df['Helper']=ref_df['Reference'].shift()\r\n",
    "ref_df.fillna(0)\r\n",
    "ref_df['Check_number']=ref_df.apply(lambda row: 1 if row['Reference']==row['Helper'] else 0,axis=1)\r\n",
    "ls = []  \r\n",
    "cumulative = 0\r\n",
    "count = 0\r\n",
    "for _, row in ref_df.iterrows():\r\n",
    "    if row.Check_number == 1:\r\n",
    "        cumulative += row.Check_number\r\n",
    "    else:\r\n",
    "        cumulative = 0\r\n",
    "        count+=1\r\n",
    "    ls.append(cumulative)\r\n",
    "ref_df['Check_number']=ls\r\n",
    "ref_df['Check_number']+=1\r\n",
    "ref_df['SetID']=ref_df.apply(lambda row: row['Reference']+'_'+str(row['Check_number']),axis=1)\r\n",
    "ref_df.drop('Helper', inplace=True, axis=1)\r\n",
    "ref_df.drop('Check_number', inplace=True, axis=1)\r\n",
    "#ref_df.to_csv('ref_df.csv')"
   ],
   "outputs": [],
   "metadata": {}
  },
  {
   "cell_type": "code",
   "execution_count": 24,
   "source": [
    "# Add some more columns and make consistent with Nick's code\r\n",
    "ref_df['SurfCharge_val']='NA'\r\n",
    "ref_df['SurfCharge_units'] ='NA'\r\n",
    "ref_df['SurfCharge_SD']='NA'\r\n",
    "ref_df['Mineralsites_SD']='0.0231'\r\n",
    "ref_df['Mineralsites_units']='sites/nm2'\r\n",
    "ref_df['Mineralsites']='2.31'\r\n",
    "df6 = ref_df[['Reference' , 'Set' , 'SetID' , 'Mineral' , 'Mineral_formula' , 'Mineral_source' , 'Temp' , 'Temp_SD' , 'Electrolyte1' , 'Electrolyte1_val' , 'Electrolyte1_SD' , 'Electrolyte1_units' , 'Electrolyte2' , 'Electrolyte2_val' , 'Electrolyte2_SD' , 'Electrolyte2_units' , 'Electrolyte3' , 'Electrolyte3_val' , 'Electrolyte3_SD' , 'Electrolyte3_units' , 'Electrolyte4' , 'Electrolyte4_val' , 'Electrolyte4_SD' , 'Electrolyte4_units' , 'Electrolyte5' , 'Electrolyte5_val' , 'Electrolyte5_SD' , 'Electrolyte5_units' , 'Electrolyte6' , 'Electrolyte6_val' , 'Electrolyte6_SD' , 'Electrolyte6_units' , 'Electrolyte7' , 'Electrolyte7_val' , 'Electrolyte7_SD' , 'Electrolyte7_units' , 'Electrolyte8' , 'Electrolyte8_val' , 'Electrolyte8_SD' , 'Electrolyte8_units' , 'Electrolyte9' , 'Electrolyte9_val' , 'Electrolyte9_SD' , 'Electrolyte9_units' , 'Electrolyte10' , 'Electrolyte10_val' , 'Electrolyte10_SD' , 'Electrolyte10_units' , 'Electrolyte11' , 'Electrolyte11_val' , 'Electrolyte11_SD' , 'Electrolyte11_units' , 'Electrolyte12' , 'Electrolyte12_val' , 'Electrolyte12_SD' , 'Electrolyte12_units' , 'Electrolyte13' , 'Electrolyte13_val' , 'Electrolyte13_SD' , 'Electrolyte13_units' , 'pH' , 'pH_SD' , 'Sorbent' , 'Sorbent_val' , 'Sorbent_SD' , 'Sorbent_units' , 'Aq_val' , 'Aq_SD' , 'Aq_units' , 'Sorbed_val' , 'Sorbed_SD' , 'Sorbed_units' , 'SurfCharge_val' , 'SurfCharge_SD' , 'SurfCharge_units' , 'Mineral_val' , 'Mineral_SD' , 'Mineral_units' , 'MineralSA' , 'MineralSA_SD' , 'MineralSA_units' , 'Mineralsites' , 'Mineralsites_SD' , 'Mineralsites_units' , 'CEC' , 'CEC_SD' , 'CEC_units' , 'Gas1' , 'Gas1_val' , 'Gas1_SD' , 'Gas1_units' , 'Gas2' , 'Gas2_val' , 'Gas2_SD' , 'Gas2_units' , 'Gas3' , 'Gas3_val' , 'Gas3_SD' , 'Gas3_units']]\r\n",
    "df6.to_csv(path_1.joinpath('df6.csv'), index = False)\r\n"
   ],
   "outputs": [],
   "metadata": {}
  }
 ]
}